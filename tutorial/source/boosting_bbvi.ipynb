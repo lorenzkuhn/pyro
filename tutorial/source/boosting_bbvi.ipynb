{
 "cells": [
  {
   "cell_type": "markdown",
   "metadata": {},
   "source": [
    "# Boosting Black Box Variational Inference\n",
    "## Introduction\n",
    "This tutorial demonstrates how to implement boosting black box Variational Inference [1] in Pyro. In boosting Variational Inference [2], we approximate a target distribution with an iteratively selected mixture of densities. In cases where a single denisity provided by regular Variational Inference doesn't adequately approximate a target density, boosting VI thus offers a simple way of getting more complex approximations. We show how this can be implemented as a relatively straightforward extension of Pyro's SVI.\n",
    "\n",
    "## Contents\n",
    "* [Theoretical Background](#theoretical-background)\n",
    "    - [Variational Inference](#variational-inference)\n",
    "    - [Boosting Black Box Variational Inference](#bbbvi)\n",
    "* [BBBVI in Pyro](#bbbvi-pyro)\n",
    "    - [The Model](#the-model)\n",
    "    - [The Guide](#the-guide)\n",
    "    - [The Relbo](#the-relbo)\n",
    "    - [The Approximation](#the-approximation)\n",
    "    - [The Greedy Algorithm](#the-greedy-algorithm)"
   ]
  },
  {
   "cell_type": "markdown",
   "metadata": {},
   "source": [
    "## Theoretical Background <a class=\"anchor\" id=\"theoretical-background\"></a>\n",
    "\n",
    "### Variational Inference <a class=\"anchor\" id=\"variational-inference\"></a>\n",
    "For an introduction to regular Variational Inference, we recommend having a look at [the tutorial on SVI in Pyro](https://pyro.ai/examples/svi_part_i.html) and this excellent review [3].\n",
    "\n",
    "Briefly, Variational Inference allows us to find approximations of probability densities which are intractable to compute analytically. For instance, one might have observed variables $\\textbf{x}$, latent variables $\\textbf{z}$ and a joint distribution $p(\\textbf{x}, \\textbf{z})$. One can then use Variational Inference to approximate $p(\\textbf{z}|\\textbf{x})$. To do so, one first chooses a set of tractable densities, a variational family, and then tries to find the element of this set which most closely approximates the target distribution $p(\\textbf{z}|\\textbf{x})$.\n",
    "This approximating density is found by maximizing the Evidence Lower BOund (ELBO):\n",
    "$$ \\mathbb{E}_q[\\log p(\\mathbf{x}, \\mathbf{z})] - \\mathbb{E}_q[\\log q(\\mathbf{z})]$$\n",
    "\n",
    "where $s(\\mathbf{z})$ is the approximating density.\n",
    "\n",
    "### Boosting Black Box Variational Inference <a class=\"anchor\" id=\"bbbvi\"></a>\n",
    "\n",
    "In boosting black box Variational inference (BBBVI), we approximate the target density with a mixture of densities from the variational family:\n",
    "$$q^t(\\mathbf{z}) = \\sum_{i=1}^t \\gamma_i s_i(\\mathbf{z})$$\n",
    "\n",
    "$$\\text{where} \\sum_{i=1}^t \\gamma_i =1$$\n",
    "\n",
    "and $s_t(\\mathbf{z})$ are elements of the variational family.\n",
    "\n",
    "The components of the approximation are selected greedily by maximising the so-called Residual ELBO (RELBO) with respect to the next component $s_{t+1}(\\mathbf{z})$:\n",
    "\n",
    "$$\\mathbb{E}_s[\\log p(\\mathbf{x},\\mathbf{z})] - \\lambda \\mathbb{E}_s[\\log s(\\mathbf{z})] - \\mathbb{E}_s[\\log q^t(\\mathbf{z})]$$\n",
    "\n",
    "Where the first two terms are the same as in the ELBO and the last term is the cross entropy between the next component $s_{t+1}(\\mathbf{z})$ and the current approximation $q^t(\\mathbf{z})$.\n",
    "\n",
    "It's called *black box* Variational Inference because this optimization does not have to be tailored to the variational family which is being used. By setting $\\lambda$ (the regularization factor of the entropy term) to 1, standard SVI methods can be used to compute $\\mathbb{E}_s[\\log p(\\mathbf{x}, \\mathbf{z})] - \\lambda \\mathbb{E}_s[\\log s(\\mathbf{z})]$. See the explanation of [the section on the implementation of the RELBO](#the-relbo) below for an explanation of how we compute the term  $- \\mathbb{E}_s[\\log q^t(\\mathbf{z})]$. Imporantly, we do not need to make any additional assumptions about the variational family that's being used to ensure that this algorithm converges. \n",
    "\n",
    "In [1], a number of different ways of finding the mixture weights $\\gamma_t$ are suggested, ranging from fixed step sizes based on the iteration to solving the optimisation problem of finding $\\gamma_t$ that will minimise the RELBO. Here, we used the fixed step size method.\n",
    "For more details on the theory behind boosting black box variational inference, please refer to [1]."
   ]
  },
  {
   "cell_type": "markdown",
   "metadata": {},
   "source": [
    "## BBBVI in Pyro <a class=\"anchor\" id=\"bbbvi-pyro\"></a>"
   ]
  },
  {
   "cell_type": "markdown",
   "metadata": {},
   "source": [
    "To implement boosting black box variational inference in Pyro, we need to consider the following points:\n",
    "1. The approximation components $s_{t}(\\mathbf{z})$ (guides).\n",
    "2. The RELBO.\n",
    "3. The approximation itself $q^t(\\mathbf{z})$.\n",
    "4. Using Pyro's SVI to find new components of the approximation.\n",
    "\n",
    "We will illustrate these points by looking at simple example: approximating a bimodal posterior.\n"
   ]
  },
  {
   "cell_type": "code",
   "execution_count": 2,
   "metadata": {},
   "outputs": [],
   "source": [
    "import os\n",
    "from collections import defaultdict\n",
    "from functools import partial\n",
    "\n",
    "import numpy as np\n",
    "import pyro\n",
    "import pyro.distributions as dist\n",
    "import scipy.stats\n",
    "import torch\n",
    "import torch.distributions.constraints as constraints\n",
    "from matplotlib import pyplot\n",
    "from pyro.infer import SVI, Trace_ELBO\n",
    "from pyro.optim import Adam\n",
    "from pyro.poutine import block, replay, trace\n"
   ]
  },
  {
   "cell_type": "markdown",
   "metadata": {},
   "source": [
    "### The Model <a class=\"anchor\" id=\"the-model\"></a>\n",
    "\n",
    "Boosting BBVI is particularly useful when we want to approximate mulitmodal distributions. In this tutorial, we'll thus consider the following model:\n",
    " \n",
    " $$\\mathbf{z} \\sim \\mathcal{N}(0,5)$$\n",
    " $$\\mathbf{x} \\sim \\mathcal{N}(\\mathbf{z}^2, 0.1)$$\n",
    " \n",
    "Given the set of iid. observations $\\text{data} ~ \\mathcal{N}(4, 0.1)$, we thus expect $p(\\mathbf{z}|\\mathbf{x})$ to be a bimodal distributions with modes around $-2$ and $2$.\n",
    " \n",
    "In Pyro, this model takes the following shape:"
   ]
  },
  {
   "cell_type": "code",
   "execution_count": 3,
   "metadata": {},
   "outputs": [],
   "source": [
    "def model(data):\n",
    "    prior_loc = torch.tensor([0.])\n",
    "    prior_scale = torch.tensor([5.])\n",
    "    z = pyro.sample('z', dist.Normal(prior_loc, prior_scale))\n",
    "    scale = torch.tensor([0.1])\n",
    "\n",
    "    with pyro.plate('data', len(data)):\n",
    "        pyro.sample('x', dist.Normal(z*z, scale), obs=data)"
   ]
  },
  {
   "cell_type": "markdown",
   "metadata": {},
   "source": [
    "### The Guide <a class=\"anchor\" id=\"the-guide\"></a>\n",
    "\n",
    "Next, we specify the guide which in our case will make up the components of our mixture. Recall that in Pyro the guide needs to take the same arguments as the model which is why our guide function also takes the data as an input. \n",
    "\n",
    "We also need to make sure that every `pyro.sample()` statement from the model has a matching `pyro.sample()` statement in the guide. In our case, we include `loc` in both the model and the guide.\n",
    "\n",
    "In contrast to regular SVI, our guide takes an additional argument: `index`. Having this argument allows us to easily create new guides in each iteration of the greedy algorithm. Specifically, we make use of `partial()` from the [functools library](https://docs.python.org/3.7/library/functools.html) to create guides which only take `data` as an argument. The statement `partial(guide, index=t)` creates a guide that will take only `data` as an input and which has trainable parameters `scale_t` and `loc_t`.\n",
    "\n",
    "Choosing our variational distribution to be a Normal distribution parameterized by $loc_t$ and $scale_t$ we get the following guide:"
   ]
  },
  {
   "cell_type": "code",
   "execution_count": 4,
   "metadata": {},
   "outputs": [],
   "source": [
    "def guide(data, index):\n",
    "    scale_q = pyro.param('scale_{}'.format(index), torch.tensor([1.0]), constraints.positive)\n",
    "    loc_q = pyro.param('loc_{}'.format(index), torch.tensor([0.0]))\n",
    "    pyro.sample(\"z\", dist.Normal(loc_q, scale_q))"
   ]
  },
  {
   "cell_type": "markdown",
   "metadata": {},
   "source": [
    "### The RELBO <a class=\"anchor\" id=\"the-relbo\"></a>\n",
    "\n",
    "We implement the RELBO as a function which can be passed to Pyro's SVI class in place of ELBO to find the approximation components $s_t(z)$. Recall that the RELBO has the following form:\n",
    "$$\\mathbb{E}_s[\\log p(\\mathbf{x},\\mathbf{z})] - \\lambda \\mathbb{E}_s[\\log s(\\mathbf{z})] - \\mathbb{E}_s[\\log q^t(\\mathbf{z})]$$\n",
    "\n",
    "Conveniently, this is very similar to the regular ELBO which allows us to reuse Pyro's existing ELBO. Specifically, we compute \n",
    "$$\\mathbb{E}_s[\\log p(x,z)] - \\lambda \\mathbb{E}_s[\\log s]$$\n",
    "using Pyro's `Trace_ELBO` and then compute \n",
    "$$ - \\mathbb{E}_s[\\log q^t]$$\n",
    "using Poutine. For more information on how this works, we recommend going through the Pyro tutorials [on Poutine](https://pyro.ai/examples/effect_handlers.html) and [custom SVI objectives](https://pyro.ai/examples/custom_objectives.html)."
   ]
  },
  {
   "cell_type": "code",
   "execution_count": 5,
   "metadata": {},
   "outputs": [],
   "source": [
    "def relbo(model, guide, *args, **kwargs):\n",
    "\n",
    "    approximation = kwargs.pop('approximation', None)\n",
    "    # Run the guide with the arguments passed to SVI.step() and trace the execution,\n",
    "    # i.e. record all the calls to Pyro primitives like sample() and param().\n",
    "    guide_trace = trace(guide).get_trace(*args, **kwargs)\n",
    "\n",
    "    # We do not want to update parameters of previously fitted components and thus block all\n",
    "    # parameters in the approximation apart from z.\n",
    "    replayed_approximation = trace(replay(block(approximation, expose=['z']), guide_trace))\n",
    "    approximation_trace = replayed_approximation.get_trace(*args, **kwargs)\n",
    "\n",
    "    loss_fn = pyro.infer.Trace_ELBO(max_plate_nesting=1).differentiable_loss(model,\n",
    "                                                                             guide,\n",
    "                                                                             *args,\n",
    "                                                                             **kwargs)\n",
    "\n",
    "    relbo = -loss_fn - approximation_trace.log_prob_sum()\n",
    "    \n",
    "    # By convention, the negative (R)ELBO is returned.\n",
    "    return -relbo"
   ]
  },
  {
   "cell_type": "markdown",
   "metadata": {},
   "source": [
    "### The Approximation <a class=\"anchor\" id=\"the-approximation\"></a>"
   ]
  },
  {
   "cell_type": "markdown",
   "metadata": {},
   "source": [
    "Our implementation of the approximation $q^t(z) = \\sum_{i=1}^t \\gamma_i s_i(z)$ consists of a list of components, i.e. the guides from the greedy selection steps, and a list containing the mixture weights of the components. To sample from the approximation, we thus first sample a component according to the mixture weights. In a second step, we draw a sample from the corresponding component.\n",
    "\n",
    "Similarly as with the guide, we use `partial(approximation, components=components, weights=weights)` to get an approximation function which has the same signature as the model."
   ]
  },
  {
   "cell_type": "code",
   "execution_count": 6,
   "metadata": {},
   "outputs": [],
   "source": [
    "def approximation(data, components, weights):\n",
    "    assignment = pyro.sample('assignment', dist.Categorical(weights))\n",
    "    result = components[assignment](data)\n",
    "    return result        "
   ]
  },
  {
   "cell_type": "markdown",
   "metadata": {},
   "source": [
    "### The Greedy Algorithm <a class=\"anchor\" id=\"the-greedy-algorithm\"></a>"
   ]
  },
  {
   "cell_type": "markdown",
   "metadata": {},
   "source": [
    "We now have all the necessary parts to implement the greedy algorithm. First, we initialize the approximation:"
   ]
  },
  {
   "cell_type": "code",
   "execution_count": 7,
   "metadata": {},
   "outputs": [],
   "source": [
    "initial_approximation = partial(guide, index=0)\n",
    "components = [initial_approximation]\n",
    "weights = torch.tensor([1.])\n",
    "wrapped_approximation = partial(approximation, components=components, weights=weights)"
   ]
  },
  {
   "cell_type": "markdown",
   "metadata": {},
   "source": [
    "Then we iteratively find the $T$ components of the approximation by maximizing the RELBO at every step:"
   ]
  },
  {
   "cell_type": "code",
   "execution_count": 8,
   "metadata": {},
   "outputs": [
    {
     "name": "stdout",
     "output_type": "stream",
     "text": [
      ". . . . . . . . . . . . . . . . . . . . . . . . . . . . . . . . . . . . . . . . . . . . . . . . . . . . . . . . . . . . . . . . . . . . . . . . . . . . . . . . . . . . . . . . . . . . . . . . . . . . . . . . . . . . . . . . . . . . . . . . Parameters of component 1:\n",
      "loc = -1.9929240942001343\n",
      "scale = 0.02097270078957081\n",
      ". . . . . . . . . . . . . . . . . . . . . . . . . . . . . . . . . . . . . . . . . . . . . . . . . . . . . . . . . . . . . . . . . . . . . . . . . . . . . . . . . . . . . . . . . . . . . . . . . . . . . . . . . . . . . . . . . . . . . . . . Parameters of component 2:\n",
      "loc = 1.9883534908294678\n",
      "scale = 0.012322129681706429\n"
     ]
    }
   ],
   "source": [
    "# clear the param store in case we're in a REPL\n",
    "pyro.clear_param_store()\n",
    "\n",
    "# Sample observations from a Normal distribution with loc 4 and scale 0.1\n",
    "n = torch.distributions.Normal(torch.tensor([4.0]), torch.tensor([0.1]))\n",
    "data = n.sample((100,))\n",
    "\n",
    "#T=2\n",
    "smoke_test = ('CI' in os.environ)\n",
    "n_steps = 2 if smoke_test else 12000\n",
    "pyro.set_rng_seed(2)\n",
    "n_iterations = 2\n",
    "locs = [0]\n",
    "scales = [0]\n",
    "for t in range(1, n_iterations + 1):\n",
    "\n",
    "    # Create guide that only takes data as argument\n",
    "    wrapped_guide = partial(guide, index=t)\n",
    "    losses = []\n",
    "\n",
    "    adam_params = {\"lr\": 0.01, \"betas\": (0.90, 0.999)}\n",
    "    optimizer = Adam(adam_params)\n",
    "\n",
    "    # Pass our custom RELBO to SVI as the loss function.\n",
    "    svi = SVI(model, wrapped_guide, optimizer, loss=relbo)\n",
    "    for step in range(n_steps):\n",
    "        # Pass the existing approximation to SVI.\n",
    "        loss = svi.step(data, approximation=wrapped_approximation)\n",
    "        losses.append(loss)\n",
    "\n",
    "        if step % 100 == 0:\n",
    "            print('.', end=' ')\n",
    "\n",
    "    # Update the list of approximation components.\n",
    "    components.append(wrapped_guide)\n",
    "\n",
    "    # Set new mixture weight.\n",
    "    new_weight = 2 / (t + 1)\n",
    "\n",
    "    # In this specific case, we set the mixture weight of the second component to 0.5.\n",
    "    if t == 2:\n",
    "        new_weight = 0.5\n",
    "    weights = weights * (1-new_weight)\n",
    "    weights = torch.cat((weights, torch.tensor([new_weight])))\n",
    "\n",
    "    # Update the approximation\n",
    "    wrapped_approximation = partial(approximation, components=components, weights=weights)\n",
    "\n",
    "    print('Parameters of component {}:'.format(t))\n",
    "    scale = pyro.param(\"scale_{}\".format(t)).item()\n",
    "    scales.append(scale)\n",
    "    loc = pyro.param(\"loc_{}\".format(t)).item()\n",
    "    locs.append(loc)\n",
    "    print('loc = {}'.format(loc))\n",
    "    print('scale = {}'.format(scale))"
   ]
  },
  {
   "cell_type": "code",
   "execution_count": 9,
   "metadata": {},
   "outputs": [
    {
     "data": {
      "image/png": "[encoded data removed]",
      "text/plain": [
       "<Figure size 1000x400 with 1 Axes>"
      ]
     },
     "metadata": {},
     "output_type": "display_data"
    }
   ],
   "source": [
    "# Plot the resulting approximation\n",
    "X = np.arange(-10, 10, 0.1)\n",
    "pyplot.figure(figsize=(10, 4), dpi=100).set_facecolor('white')\n",
    "total_approximation = np.zeros(X.shape)\n",
    "for i in range(1, n_iterations + 1):\n",
    "    Y = weights[i].item() * scipy.stats.norm.pdf((X - locs[i]) / scales[i])\n",
    "    pyplot.plot(X, Y)\n",
    "    total_approximation += Y\n",
    "pyplot.plot(X, total_approximation)\n",
    "pyplot.plot(data.data.numpy(), np.zeros(len(data)), 'k*')\n",
    "pyplot.title('Approximation of posterior over z')\n",
    "pyplot.ylabel('probability density')\n",
    "pyplot.show()"
   ]
  },
  {
   "cell_type": "markdown",
   "metadata": {},
   "source": [
    "We see that boosting BBVI successfully approximates the bimodal posterior distributions with modes around -2 and +2."
   ]
  },
  {
   "cell_type": "markdown",
   "metadata": {},
   "source": [
    "## The Complete Implementation"
   ]
  },
  {
   "cell_type": "markdown",
   "metadata": {},
   "source": [
    "Putting all the components together, we then get the complete implementation of boosting black box Variational Inference:"
   ]
  },
  {
   "cell_type": "code",
   "execution_count": 74,
   "metadata": {},
   "outputs": [
    {
     "name": "stdout",
     "output_type": "stream",
     "text": [
      ". . . . . . . . . . . . . . . . . . . . . . . . . . . . . . . . . . . . . . . . . . . . . . . . . . . . . . . . . . . . . . . . . . . . . . . . . . . . . . . . . . . . . . . . . . . . . . . . . . . . . . . . . . . . . . . . . . . . . . . . Parameters of component 1:\n",
      "loc = -1.9950288534164429\n",
      "scale = 0.038874927908182144\n",
      ". . . . . . . . . . . . . . . . . . . . . . . . . . . . . . . . . . . . . . . . . . . . . . . . . . . . . . . . . . . . . . . . . . . . . . . . . . . . . . . . . . . . . . . . . . . . . . . . . . . . . . . . . . . . . . . . . . . . . . . . Parameters of component 2:\n",
      "loc = 2.009120225906372\n",
      "scale = 0.01808810420334339\n"
     ]
    },
    {
     "data": {
      "image/png": "[encoded data removed]",
      "text/plain": [
       "<Figure size 1000x400 with 1 Axes>"
      ]
     },
     "metadata": {},
     "output_type": "display_data"
    }
   ],
   "source": [
    "import os\n",
    "from collections import defaultdict\n",
    "from functools import partial\n",
    "\n",
    "import numpy as np\n",
    "import pyro\n",
    "import pyro.distributions as dist\n",
    "import scipy.stats\n",
    "import torch\n",
    "import torch.distributions.constraints as constraints\n",
    "from matplotlib import pyplot\n",
    "from pyro.infer import SVI, Trace_ELBO\n",
    "from pyro.optim import Adam\n",
    "from pyro.poutine import block, replay, trace\n",
    "\n",
    "# this is for running the notebook in our testing framework\n",
    "n_steps = 2 if smoke_test else 12000\n",
    "pyro.set_rng_seed(2)\n",
    "\n",
    "# enable validation (e.g. validate parameters of distributions)\n",
    "pyro.enable_validation(True)\n",
    "\n",
    "# clear the param store in case we're in a REPL\n",
    "pyro.clear_param_store()\n",
    "\n",
    "# Sample observations from a Normal distribution with loc 4 and scale 0.1\n",
    "n = torch.distributions.Normal(torch.tensor([4.0]), torch.tensor([0.1]))\n",
    "data = n.sample((100,))\n",
    "\n",
    "\n",
    "def guide(data, index):\n",
    "    scale_q = pyro.param('scale_{}'.format(index), torch.tensor([1.0]), constraints.positive)\n",
    "    loc_q = pyro.param('loc_{}'.format(index), torch.tensor([0.0]))\n",
    "    pyro.sample(\"z\", dist.Normal(loc_q, scale_q))\n",
    "\n",
    "\n",
    "def model(data):\n",
    "    prior_loc = torch.tensor([0.])\n",
    "    prior_scale = torch.tensor([5.])\n",
    "    z = pyro.sample('z', dist.Normal(prior_loc, prior_scale))\n",
    "    scale = torch.tensor([0.1])\n",
    "\n",
    "    with pyro.plate('data', len(data)):\n",
    "        pyro.sample('x', dist.Normal(z*z, scale), obs=data)\n",
    "\n",
    "\n",
    "def relbo(model, guide, *args, **kwargs):\n",
    "\n",
    "    approximation = kwargs.pop('approximation', None)\n",
    "    # Run the guide with the arguments passed to SVI.step() and trace the execution,\n",
    "    # i.e. record all the calls to Pyro primitives like sample() and param().\n",
    "    guide_trace = trace(guide).get_trace(*args, **kwargs)\n",
    "\n",
    "    # We do not want to update parameters of previously fitted components and thus block all\n",
    "    # parameters in the approximation apart from z.\n",
    "    replayed_approximation = trace(replay(block(approximation, expose=['z']), guide_trace))\n",
    "    approximation_trace = replayed_approximation.get_trace(*args, **kwargs)\n",
    "\n",
    "    loss_fn = pyro.infer.Trace_ELBO(max_plate_nesting=1).differentiable_loss(model,\n",
    "                                                                             guide,\n",
    "                                                                             *args,\n",
    "                                                                             **kwargs)\n",
    "\n",
    "    relbo = -loss_fn - approximation_trace.log_prob_sum()\n",
    "    \n",
    "    # By convention, the negative (R)ELBO is returned.\n",
    "    return -relbo\n",
    "\n",
    "\n",
    "def approximation(data, components, weights):\n",
    "    assignment = pyro.sample('assignment', dist.Categorical(weights))\n",
    "    result = components[assignment](data)\n",
    "    return result\n",
    "\n",
    "\n",
    "def boosting_bbvi():\n",
    "    # T=2\n",
    "    n_iterations = 2\n",
    "    initial_approximation = partial(guide, index=0)\n",
    "    components = [initial_approximation]\n",
    "    weights = torch.tensor([1.])\n",
    "    wrapped_approximation = partial(approximation, components=components, weights=weights)\n",
    "\n",
    "    locs = [0]\n",
    "    scales = [0]\n",
    "\n",
    "    for t in range(1, n_iterations + 1):\n",
    "        \n",
    "        # Create guide that only takes data as argument\n",
    "        wrapped_guide = partial(guide, index=t)\n",
    "        losses = []\n",
    "\n",
    "        adam_params = {\"lr\": 0.01, \"betas\": (0.90, 0.999)}\n",
    "        optimizer = Adam(adam_params)\n",
    "\n",
    "        # Pass our custom RELBO to SVI as the loss function.\n",
    "        svi = SVI(model, wrapped_guide, optimizer, loss=relbo)\n",
    "        for step in range(n_steps):\n",
    "            # Pass the existing approximation to SVI.\n",
    "            loss = svi.step(data, approximation=wrapped_approximation)\n",
    "            losses.append(loss)\n",
    "\n",
    "            if step % 100 == 0:\n",
    "                print('.', end=' ')\n",
    "\n",
    "        # Update the list of approximation components.\n",
    "        components.append(wrapped_guide)\n",
    "        \n",
    "        # Set new mixture weight.\n",
    "        new_weight = 2 / (t + 1)\n",
    "\n",
    "        # In this specific case, we set the mixture weight of the second component to 0.5.\n",
    "        if t == 2:\n",
    "            new_weight = 0.5\n",
    "        weights = weights * (1-new_weight)\n",
    "        weights = torch.cat((weights, torch.tensor([new_weight])))\n",
    "\n",
    "        # Update the approximation\n",
    "        wrapped_approximation = partial(approximation, components=components, weights=weights)\n",
    "\n",
    "        print('Parameters of component {}:'.format(t))\n",
    "        scale = pyro.param(\"scale_{}\".format(t)).item()\n",
    "        scales.append(scale)\n",
    "        loc = pyro.param(\"loc_{}\".format(t)).item()\n",
    "        locs.append(loc)\n",
    "        print('loc = {}'.format(loc))\n",
    "        print('scale = {}'.format(scale))\n",
    "\n",
    "\n",
    "    # Plot the resulting approximation\n",
    "    X = np.arange(-10, 10, 0.1)\n",
    "    pyplot.figure(figsize=(10, 4), dpi=100).set_facecolor('white')\n",
    "    total_approximation = np.zeros(X.shape)\n",
    "    for i in range(1, n_iterations + 1):\n",
    "        Y = weights[i].item() * scipy.stats.norm.pdf((X - locs[i]) / scales[i])\n",
    "        pyplot.plot(X, Y)\n",
    "        total_approximation += Y\n",
    "    pyplot.plot(X, total_approximation)\n",
    "    pyplot.plot(data.data.numpy(), np.zeros(len(data)), 'k*')\n",
    "    pyplot.title('Approximation of posterior over z')\n",
    "    pyplot.ylabel('probability density')\n",
    "    pyplot.show()\n",
    "\n",
    "if __name__ == '__main__':\n",
    "    boosting_bbvi()\n"
   ]
  },
  {
   "cell_type": "markdown",
   "metadata": {},
   "source": [
    "### References\n",
    "\n",
    "[1] Locatello, Francesco, et al. \"Boosting black box variational inference.\" Advances in Neural Information Processing Systems. 2018.\n",
    "\n",
    "[2] Ranganath, Rajesh, Sean Gerrish, and David Blei. \"Black box variational inference.\" Artificial Intelligence and Statistics. 2014.\n",
    "\n",
    "[3] Blei, David M., Alp Kucukelbir, and Jon D. McAuliffe. \"Variational inference: A review for statisticians.\" Journal of the American statistical Association 112.518 (2017): 859-877."
   ]
  }
 ],
 "metadata": {
  "file_extension": ".py",
  "kernelspec": {
   "display_name": "Python 3",
   "language": "python",
   "name": "python3"
  },
  "language_info": {
   "codemirror_mode": {
    "name": "ipython",
    "version": 3
   },
   "file_extension": ".py",
   "mimetype": "text/x-python",
   "name": "python",
   "nbconvert_exporter": "python",
   "pygments_lexer": "ipython3",
   "version": "3.6.2"
  },
  "mimetype": "text/x-python",
  "name": "python",
  "npconvert_exporter": "python",
  "pygments_lexer": "ipython3",
  "version": 3
 },
 "nbformat": 4,
 "nbformat_minor": 2
}
